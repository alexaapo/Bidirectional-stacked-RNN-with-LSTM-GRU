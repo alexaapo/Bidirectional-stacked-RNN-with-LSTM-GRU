{
  "nbformat": 4,
  "nbformat_minor": 0,
  "metadata": {
    "accelerator": "GPU",
    "colab": {
      "name": "LSTM__GRU.ipynb",
      "provenance": [],
      "collapsed_sections": []
    },
    "kernelspec": {
      "display_name": "Python 3",
      "name": "python3"
    },
    "widgets": {
      "application/vnd.jupyter.widget-state+json": {
        "639ae4fd3df447cda32e7976694bcf85": {
          "model_module": "@jupyter-widgets/controls",
          "model_name": "HBoxModel",
          "state": {
            "_view_name": "HBoxView",
            "_dom_classes": [],
            "_model_name": "HBoxModel",
            "_view_module": "@jupyter-widgets/controls",
            "_model_module_version": "1.5.0",
            "_view_count": null,
            "_view_module_version": "1.5.0",
            "box_style": "",
            "layout": "IPY_MODEL_cb63d691cf8945f8a829fc61c9996d08",
            "_model_module": "@jupyter-widgets/controls",
            "children": [
              "IPY_MODEL_f9f0a2534d6142aaae40918c8a279a91",
              "IPY_MODEL_9ad82ae1b0ae45d4940ae106b2f4cc83"
            ]
          }
        },
        "cb63d691cf8945f8a829fc61c9996d08": {
          "model_module": "@jupyter-widgets/base",
          "model_name": "LayoutModel",
          "state": {
            "_view_name": "LayoutView",
            "grid_template_rows": null,
            "right": null,
            "justify_content": null,
            "_view_module": "@jupyter-widgets/base",
            "overflow": null,
            "_model_module_version": "1.2.0",
            "_view_count": null,
            "flex_flow": null,
            "width": null,
            "min_width": null,
            "border": null,
            "align_items": null,
            "bottom": null,
            "_model_module": "@jupyter-widgets/base",
            "top": null,
            "grid_column": null,
            "overflow_y": null,
            "overflow_x": null,
            "grid_auto_flow": null,
            "grid_area": null,
            "grid_template_columns": null,
            "flex": null,
            "_model_name": "LayoutModel",
            "justify_items": null,
            "grid_row": null,
            "max_height": null,
            "align_content": null,
            "visibility": null,
            "align_self": null,
            "height": null,
            "min_height": null,
            "padding": null,
            "grid_auto_rows": null,
            "grid_gap": null,
            "max_width": null,
            "order": null,
            "_view_module_version": "1.2.0",
            "grid_template_areas": null,
            "object_position": null,
            "object_fit": null,
            "grid_auto_columns": null,
            "margin": null,
            "display": null,
            "left": null
          }
        },
        "f9f0a2534d6142aaae40918c8a279a91": {
          "model_module": "@jupyter-widgets/controls",
          "model_name": "FloatProgressModel",
          "state": {
            "_view_name": "ProgressView",
            "style": "IPY_MODEL_297deb9daa1a47b9ad091cdfa860248e",
            "_dom_classes": [],
            "description": "100%",
            "_model_name": "FloatProgressModel",
            "bar_style": "success",
            "max": 2,
            "_view_module": "@jupyter-widgets/controls",
            "_model_module_version": "1.5.0",
            "value": 2,
            "_view_count": null,
            "_view_module_version": "1.5.0",
            "orientation": "horizontal",
            "min": 0,
            "description_tooltip": null,
            "_model_module": "@jupyter-widgets/controls",
            "layout": "IPY_MODEL_6b5eed4f9913402798c887f435663dab"
          }
        },
        "9ad82ae1b0ae45d4940ae106b2f4cc83": {
          "model_module": "@jupyter-widgets/controls",
          "model_name": "HTMLModel",
          "state": {
            "_view_name": "HTMLView",
            "style": "IPY_MODEL_253e5746108849fe87398d72976b89e1",
            "_dom_classes": [],
            "description": "",
            "_model_name": "HTMLModel",
            "placeholder": "​",
            "_view_module": "@jupyter-widgets/controls",
            "_model_module_version": "1.5.0",
            "value": " 2/2 [00:00&lt;00:00, 15.89it/s]",
            "_view_count": null,
            "_view_module_version": "1.5.0",
            "description_tooltip": null,
            "_model_module": "@jupyter-widgets/controls",
            "layout": "IPY_MODEL_bd6df8c7a30a42a985196f71a0c99ebc"
          }
        },
        "297deb9daa1a47b9ad091cdfa860248e": {
          "model_module": "@jupyter-widgets/controls",
          "model_name": "ProgressStyleModel",
          "state": {
            "_view_name": "StyleView",
            "_model_name": "ProgressStyleModel",
            "description_width": "initial",
            "_view_module": "@jupyter-widgets/base",
            "_model_module_version": "1.5.0",
            "_view_count": null,
            "_view_module_version": "1.2.0",
            "bar_color": null,
            "_model_module": "@jupyter-widgets/controls"
          }
        },
        "6b5eed4f9913402798c887f435663dab": {
          "model_module": "@jupyter-widgets/base",
          "model_name": "LayoutModel",
          "state": {
            "_view_name": "LayoutView",
            "grid_template_rows": null,
            "right": null,
            "justify_content": null,
            "_view_module": "@jupyter-widgets/base",
            "overflow": null,
            "_model_module_version": "1.2.0",
            "_view_count": null,
            "flex_flow": null,
            "width": null,
            "min_width": null,
            "border": null,
            "align_items": null,
            "bottom": null,
            "_model_module": "@jupyter-widgets/base",
            "top": null,
            "grid_column": null,
            "overflow_y": null,
            "overflow_x": null,
            "grid_auto_flow": null,
            "grid_area": null,
            "grid_template_columns": null,
            "flex": null,
            "_model_name": "LayoutModel",
            "justify_items": null,
            "grid_row": null,
            "max_height": null,
            "align_content": null,
            "visibility": null,
            "align_self": null,
            "height": null,
            "min_height": null,
            "padding": null,
            "grid_auto_rows": null,
            "grid_gap": null,
            "max_width": null,
            "order": null,
            "_view_module_version": "1.2.0",
            "grid_template_areas": null,
            "object_position": null,
            "object_fit": null,
            "grid_auto_columns": null,
            "margin": null,
            "display": null,
            "left": null
          }
        },
        "253e5746108849fe87398d72976b89e1": {
          "model_module": "@jupyter-widgets/controls",
          "model_name": "DescriptionStyleModel",
          "state": {
            "_view_name": "StyleView",
            "_model_name": "DescriptionStyleModel",
            "description_width": "",
            "_view_module": "@jupyter-widgets/base",
            "_model_module_version": "1.5.0",
            "_view_count": null,
            "_view_module_version": "1.2.0",
            "_model_module": "@jupyter-widgets/controls"
          }
        },
        "bd6df8c7a30a42a985196f71a0c99ebc": {
          "model_module": "@jupyter-widgets/base",
          "model_name": "LayoutModel",
          "state": {
            "_view_name": "LayoutView",
            "grid_template_rows": null,
            "right": null,
            "justify_content": null,
            "_view_module": "@jupyter-widgets/base",
            "overflow": null,
            "_model_module_version": "1.2.0",
            "_view_count": null,
            "flex_flow": null,
            "width": null,
            "min_width": null,
            "border": null,
            "align_items": null,
            "bottom": null,
            "_model_module": "@jupyter-widgets/base",
            "top": null,
            "grid_column": null,
            "overflow_y": null,
            "overflow_x": null,
            "grid_auto_flow": null,
            "grid_area": null,
            "grid_template_columns": null,
            "flex": null,
            "_model_name": "LayoutModel",
            "justify_items": null,
            "grid_row": null,
            "max_height": null,
            "align_content": null,
            "visibility": null,
            "align_self": null,
            "height": null,
            "min_height": null,
            "padding": null,
            "grid_auto_rows": null,
            "grid_gap": null,
            "max_width": null,
            "order": null,
            "_view_module_version": "1.2.0",
            "grid_template_areas": null,
            "object_position": null,
            "object_fit": null,
            "grid_auto_columns": null,
            "margin": null,
            "display": null,
            "left": null
          }
        },
        "2b31f5ed318f4d7e8eb688593dd2923e": {
          "model_module": "@jupyter-widgets/controls",
          "model_name": "HBoxModel",
          "state": {
            "_view_name": "HBoxView",
            "_dom_classes": [],
            "_model_name": "HBoxModel",
            "_view_module": "@jupyter-widgets/controls",
            "_model_module_version": "1.5.0",
            "_view_count": null,
            "_view_module_version": "1.5.0",
            "box_style": "",
            "layout": "IPY_MODEL_47977c425d704f6bbd8e7aa94581ad80",
            "_model_module": "@jupyter-widgets/controls",
            "children": [
              "IPY_MODEL_8850b225f70845f499cba173a7e51ad2",
              "IPY_MODEL_e224fa1300b64560ae96c10e37fd45d3"
            ]
          }
        },
        "47977c425d704f6bbd8e7aa94581ad80": {
          "model_module": "@jupyter-widgets/base",
          "model_name": "LayoutModel",
          "state": {
            "_view_name": "LayoutView",
            "grid_template_rows": null,
            "right": null,
            "justify_content": null,
            "_view_module": "@jupyter-widgets/base",
            "overflow": null,
            "_model_module_version": "1.2.0",
            "_view_count": null,
            "flex_flow": null,
            "width": null,
            "min_width": null,
            "border": null,
            "align_items": null,
            "bottom": null,
            "_model_module": "@jupyter-widgets/base",
            "top": null,
            "grid_column": null,
            "overflow_y": null,
            "overflow_x": null,
            "grid_auto_flow": null,
            "grid_area": null,
            "grid_template_columns": null,
            "flex": null,
            "_model_name": "LayoutModel",
            "justify_items": null,
            "grid_row": null,
            "max_height": null,
            "align_content": null,
            "visibility": null,
            "align_self": null,
            "height": null,
            "min_height": null,
            "padding": null,
            "grid_auto_rows": null,
            "grid_gap": null,
            "max_width": null,
            "order": null,
            "_view_module_version": "1.2.0",
            "grid_template_areas": null,
            "object_position": null,
            "object_fit": null,
            "grid_auto_columns": null,
            "margin": null,
            "display": null,
            "left": null
          }
        },
        "8850b225f70845f499cba173a7e51ad2": {
          "model_module": "@jupyter-widgets/controls",
          "model_name": "FloatProgressModel",
          "state": {
            "_view_name": "ProgressView",
            "style": "IPY_MODEL_2dd7078808c14d9b9c4df9d7b0c7ef71",
            "_dom_classes": [],
            "description": "100%",
            "_model_name": "FloatProgressModel",
            "bar_style": "success",
            "max": 2,
            "_view_module": "@jupyter-widgets/controls",
            "_model_module_version": "1.5.0",
            "value": 2,
            "_view_count": null,
            "_view_module_version": "1.5.0",
            "orientation": "horizontal",
            "min": 0,
            "description_tooltip": null,
            "_model_module": "@jupyter-widgets/controls",
            "layout": "IPY_MODEL_d1932ba645704f5caaa2e790299c61a9"
          }
        },
        "e224fa1300b64560ae96c10e37fd45d3": {
          "model_module": "@jupyter-widgets/controls",
          "model_name": "HTMLModel",
          "state": {
            "_view_name": "HTMLView",
            "style": "IPY_MODEL_4f20356a51bd4d409e0628856239cf07",
            "_dom_classes": [],
            "description": "",
            "_model_name": "HTMLModel",
            "placeholder": "​",
            "_view_module": "@jupyter-widgets/controls",
            "_model_module_version": "1.5.0",
            "value": " 2/2 [00:04&lt;00:00,  2.35s/it]",
            "_view_count": null,
            "_view_module_version": "1.5.0",
            "description_tooltip": null,
            "_model_module": "@jupyter-widgets/controls",
            "layout": "IPY_MODEL_0ef9b72c4253459e900d233f68c99523"
          }
        },
        "2dd7078808c14d9b9c4df9d7b0c7ef71": {
          "model_module": "@jupyter-widgets/controls",
          "model_name": "ProgressStyleModel",
          "state": {
            "_view_name": "StyleView",
            "_model_name": "ProgressStyleModel",
            "description_width": "initial",
            "_view_module": "@jupyter-widgets/base",
            "_model_module_version": "1.5.0",
            "_view_count": null,
            "_view_module_version": "1.2.0",
            "bar_color": null,
            "_model_module": "@jupyter-widgets/controls"
          }
        },
        "d1932ba645704f5caaa2e790299c61a9": {
          "model_module": "@jupyter-widgets/base",
          "model_name": "LayoutModel",
          "state": {
            "_view_name": "LayoutView",
            "grid_template_rows": null,
            "right": null,
            "justify_content": null,
            "_view_module": "@jupyter-widgets/base",
            "overflow": null,
            "_model_module_version": "1.2.0",
            "_view_count": null,
            "flex_flow": null,
            "width": null,
            "min_width": null,
            "border": null,
            "align_items": null,
            "bottom": null,
            "_model_module": "@jupyter-widgets/base",
            "top": null,
            "grid_column": null,
            "overflow_y": null,
            "overflow_x": null,
            "grid_auto_flow": null,
            "grid_area": null,
            "grid_template_columns": null,
            "flex": null,
            "_model_name": "LayoutModel",
            "justify_items": null,
            "grid_row": null,
            "max_height": null,
            "align_content": null,
            "visibility": null,
            "align_self": null,
            "height": null,
            "min_height": null,
            "padding": null,
            "grid_auto_rows": null,
            "grid_gap": null,
            "max_width": null,
            "order": null,
            "_view_module_version": "1.2.0",
            "grid_template_areas": null,
            "object_position": null,
            "object_fit": null,
            "grid_auto_columns": null,
            "margin": null,
            "display": null,
            "left": null
          }
        },
        "4f20356a51bd4d409e0628856239cf07": {
          "model_module": "@jupyter-widgets/controls",
          "model_name": "DescriptionStyleModel",
          "state": {
            "_view_name": "StyleView",
            "_model_name": "DescriptionStyleModel",
            "description_width": "",
            "_view_module": "@jupyter-widgets/base",
            "_model_module_version": "1.5.0",
            "_view_count": null,
            "_view_module_version": "1.2.0",
            "_model_module": "@jupyter-widgets/controls"
          }
        },
        "0ef9b72c4253459e900d233f68c99523": {
          "model_module": "@jupyter-widgets/base",
          "model_name": "LayoutModel",
          "state": {
            "_view_name": "LayoutView",
            "grid_template_rows": null,
            "right": null,
            "justify_content": null,
            "_view_module": "@jupyter-widgets/base",
            "overflow": null,
            "_model_module_version": "1.2.0",
            "_view_count": null,
            "flex_flow": null,
            "width": null,
            "min_width": null,
            "border": null,
            "align_items": null,
            "bottom": null,
            "_model_module": "@jupyter-widgets/base",
            "top": null,
            "grid_column": null,
            "overflow_y": null,
            "overflow_x": null,
            "grid_auto_flow": null,
            "grid_area": null,
            "grid_template_columns": null,
            "flex": null,
            "_model_name": "LayoutModel",
            "justify_items": null,
            "grid_row": null,
            "max_height": null,
            "align_content": null,
            "visibility": null,
            "align_self": null,
            "height": null,
            "min_height": null,
            "padding": null,
            "grid_auto_rows": null,
            "grid_gap": null,
            "max_width": null,
            "order": null,
            "_view_module_version": "1.2.0",
            "grid_template_areas": null,
            "object_position": null,
            "object_fit": null,
            "grid_auto_columns": null,
            "margin": null,
            "display": null,
            "left": null
          }
        },
        "baee1bc367894c04980f138db99c581e": {
          "model_module": "@jupyter-widgets/controls",
          "model_name": "HBoxModel",
          "state": {
            "_view_name": "HBoxView",
            "_dom_classes": [],
            "_model_name": "HBoxModel",
            "_view_module": "@jupyter-widgets/controls",
            "_model_module_version": "1.5.0",
            "_view_count": null,
            "_view_module_version": "1.5.0",
            "box_style": "",
            "layout": "IPY_MODEL_44ccb7c36de649408b8678b9886a9d02",
            "_model_module": "@jupyter-widgets/controls",
            "children": [
              "IPY_MODEL_ea1945561b744543836a7a8e6a25f2e4",
              "IPY_MODEL_4c73512fb8954a3a8edff6972e8d819c"
            ]
          }
        },
        "44ccb7c36de649408b8678b9886a9d02": {
          "model_module": "@jupyter-widgets/base",
          "model_name": "LayoutModel",
          "state": {
            "_view_name": "LayoutView",
            "grid_template_rows": null,
            "right": null,
            "justify_content": null,
            "_view_module": "@jupyter-widgets/base",
            "overflow": null,
            "_model_module_version": "1.2.0",
            "_view_count": null,
            "flex_flow": null,
            "width": null,
            "min_width": null,
            "border": null,
            "align_items": null,
            "bottom": null,
            "_model_module": "@jupyter-widgets/base",
            "top": null,
            "grid_column": null,
            "overflow_y": null,
            "overflow_x": null,
            "grid_auto_flow": null,
            "grid_area": null,
            "grid_template_columns": null,
            "flex": null,
            "_model_name": "LayoutModel",
            "justify_items": null,
            "grid_row": null,
            "max_height": null,
            "align_content": null,
            "visibility": null,
            "align_self": null,
            "height": null,
            "min_height": null,
            "padding": null,
            "grid_auto_rows": null,
            "grid_gap": null,
            "max_width": null,
            "order": null,
            "_view_module_version": "1.2.0",
            "grid_template_areas": null,
            "object_position": null,
            "object_fit": null,
            "grid_auto_columns": null,
            "margin": null,
            "display": null,
            "left": null
          }
        },
        "ea1945561b744543836a7a8e6a25f2e4": {
          "model_module": "@jupyter-widgets/controls",
          "model_name": "FloatProgressModel",
          "state": {
            "_view_name": "ProgressView",
            "style": "IPY_MODEL_2bc06d3d52df4903bbc26e808eff5758",
            "_dom_classes": [],
            "description": "100%",
            "_model_name": "FloatProgressModel",
            "bar_style": "success",
            "max": 2048,
            "_view_module": "@jupyter-widgets/controls",
            "_model_module_version": "1.5.0",
            "value": 2048,
            "_view_count": null,
            "_view_module_version": "1.5.0",
            "orientation": "horizontal",
            "min": 0,
            "description_tooltip": null,
            "_model_module": "@jupyter-widgets/controls",
            "layout": "IPY_MODEL_0c7aea605dc5408a860e59bdddcf8018"
          }
        },
        "4c73512fb8954a3a8edff6972e8d819c": {
          "model_module": "@jupyter-widgets/controls",
          "model_name": "HTMLModel",
          "state": {
            "_view_name": "HTMLView",
            "style": "IPY_MODEL_b0747af85ed2451a8fa952b78a31948c",
            "_dom_classes": [],
            "description": "",
            "_model_name": "HTMLModel",
            "placeholder": "​",
            "_view_module": "@jupyter-widgets/controls",
            "_model_module_version": "1.5.0",
            "value": " 2048/2048 [00:04&lt;00:00, 434.42it/s]",
            "_view_count": null,
            "_view_module_version": "1.5.0",
            "description_tooltip": null,
            "_model_module": "@jupyter-widgets/controls",
            "layout": "IPY_MODEL_d46a7814f7fb4b6a9ef6d9dc60a2c326"
          }
        },
        "2bc06d3d52df4903bbc26e808eff5758": {
          "model_module": "@jupyter-widgets/controls",
          "model_name": "ProgressStyleModel",
          "state": {
            "_view_name": "StyleView",
            "_model_name": "ProgressStyleModel",
            "description_width": "initial",
            "_view_module": "@jupyter-widgets/base",
            "_model_module_version": "1.5.0",
            "_view_count": null,
            "_view_module_version": "1.2.0",
            "bar_color": null,
            "_model_module": "@jupyter-widgets/controls"
          }
        },
        "0c7aea605dc5408a860e59bdddcf8018": {
          "model_module": "@jupyter-widgets/base",
          "model_name": "LayoutModel",
          "state": {
            "_view_name": "LayoutView",
            "grid_template_rows": null,
            "right": null,
            "justify_content": null,
            "_view_module": "@jupyter-widgets/base",
            "overflow": null,
            "_model_module_version": "1.2.0",
            "_view_count": null,
            "flex_flow": null,
            "width": null,
            "min_width": null,
            "border": null,
            "align_items": null,
            "bottom": null,
            "_model_module": "@jupyter-widgets/base",
            "top": null,
            "grid_column": null,
            "overflow_y": null,
            "overflow_x": null,
            "grid_auto_flow": null,
            "grid_area": null,
            "grid_template_columns": null,
            "flex": null,
            "_model_name": "LayoutModel",
            "justify_items": null,
            "grid_row": null,
            "max_height": null,
            "align_content": null,
            "visibility": null,
            "align_self": null,
            "height": null,
            "min_height": null,
            "padding": null,
            "grid_auto_rows": null,
            "grid_gap": null,
            "max_width": null,
            "order": null,
            "_view_module_version": "1.2.0",
            "grid_template_areas": null,
            "object_position": null,
            "object_fit": null,
            "grid_auto_columns": null,
            "margin": null,
            "display": null,
            "left": null
          }
        },
        "b0747af85ed2451a8fa952b78a31948c": {
          "model_module": "@jupyter-widgets/controls",
          "model_name": "DescriptionStyleModel",
          "state": {
            "_view_name": "StyleView",
            "_model_name": "DescriptionStyleModel",
            "description_width": "",
            "_view_module": "@jupyter-widgets/base",
            "_model_module_version": "1.5.0",
            "_view_count": null,
            "_view_module_version": "1.2.0",
            "_model_module": "@jupyter-widgets/controls"
          }
        },
        "d46a7814f7fb4b6a9ef6d9dc60a2c326": {
          "model_module": "@jupyter-widgets/base",
          "model_name": "LayoutModel",
          "state": {
            "_view_name": "LayoutView",
            "grid_template_rows": null,
            "right": null,
            "justify_content": null,
            "_view_module": "@jupyter-widgets/base",
            "overflow": null,
            "_model_module_version": "1.2.0",
            "_view_count": null,
            "flex_flow": null,
            "width": null,
            "min_width": null,
            "border": null,
            "align_items": null,
            "bottom": null,
            "_model_module": "@jupyter-widgets/base",
            "top": null,
            "grid_column": null,
            "overflow_y": null,
            "overflow_x": null,
            "grid_auto_flow": null,
            "grid_area": null,
            "grid_template_columns": null,
            "flex": null,
            "_model_name": "LayoutModel",
            "justify_items": null,
            "grid_row": null,
            "max_height": null,
            "align_content": null,
            "visibility": null,
            "align_self": null,
            "height": null,
            "min_height": null,
            "padding": null,
            "grid_auto_rows": null,
            "grid_gap": null,
            "max_width": null,
            "order": null,
            "_view_module_version": "1.2.0",
            "grid_template_areas": null,
            "object_position": null,
            "object_fit": null,
            "grid_auto_columns": null,
            "margin": null,
            "display": null,
            "left": null
          }
        },
        "327afd4b342f4991876b17172e58d9db": {
          "model_module": "@jupyter-widgets/controls",
          "model_name": "HBoxModel",
          "state": {
            "_view_name": "HBoxView",
            "_dom_classes": [],
            "_model_name": "HBoxModel",
            "_view_module": "@jupyter-widgets/controls",
            "_model_module_version": "1.5.0",
            "_view_count": null,
            "_view_module_version": "1.5.0",
            "box_style": "",
            "layout": "IPY_MODEL_e18b768799294d1abb94a75d016b7133",
            "_model_module": "@jupyter-widgets/controls",
            "children": [
              "IPY_MODEL_159c51db40514ea89e664f4d76edf02e",
              "IPY_MODEL_29b3f270abe34c8b80716ab7d524d62d"
            ]
          }
        },
        "e18b768799294d1abb94a75d016b7133": {
          "model_module": "@jupyter-widgets/base",
          "model_name": "LayoutModel",
          "state": {
            "_view_name": "LayoutView",
            "grid_template_rows": null,
            "right": null,
            "justify_content": null,
            "_view_module": "@jupyter-widgets/base",
            "overflow": null,
            "_model_module_version": "1.2.0",
            "_view_count": null,
            "flex_flow": null,
            "width": null,
            "min_width": null,
            "border": null,
            "align_items": null,
            "bottom": null,
            "_model_module": "@jupyter-widgets/base",
            "top": null,
            "grid_column": null,
            "overflow_y": null,
            "overflow_x": null,
            "grid_auto_flow": null,
            "grid_area": null,
            "grid_template_columns": null,
            "flex": null,
            "_model_name": "LayoutModel",
            "justify_items": null,
            "grid_row": null,
            "max_height": null,
            "align_content": null,
            "visibility": null,
            "align_self": null,
            "height": null,
            "min_height": null,
            "padding": null,
            "grid_auto_rows": null,
            "grid_gap": null,
            "max_width": null,
            "order": null,
            "_view_module_version": "1.2.0",
            "grid_template_areas": null,
            "object_position": null,
            "object_fit": null,
            "grid_auto_columns": null,
            "margin": null,
            "display": null,
            "left": null
          }
        },
        "159c51db40514ea89e664f4d76edf02e": {
          "model_module": "@jupyter-widgets/controls",
          "model_name": "FloatProgressModel",
          "state": {
            "_view_name": "ProgressView",
            "style": "IPY_MODEL_fdca42fb743f4a69b91c58c87cad842e",
            "_dom_classes": [],
            "description": "100%",
            "_model_name": "FloatProgressModel",
            "bar_style": "success",
            "max": 452,
            "_view_module": "@jupyter-widgets/controls",
            "_model_module_version": "1.5.0",
            "value": 452,
            "_view_count": null,
            "_view_module_version": "1.5.0",
            "orientation": "horizontal",
            "min": 0,
            "description_tooltip": null,
            "_model_module": "@jupyter-widgets/controls",
            "layout": "IPY_MODEL_b356c52fb48946758bcd403e1d5b2969"
          }
        },
        "29b3f270abe34c8b80716ab7d524d62d": {
          "model_module": "@jupyter-widgets/controls",
          "model_name": "HTMLModel",
          "state": {
            "_view_name": "HTMLView",
            "style": "IPY_MODEL_c2f9e09a1f1a4d90a85bb28a750ca0c4",
            "_dom_classes": [],
            "description": "",
            "_model_name": "HTMLModel",
            "placeholder": "​",
            "_view_module": "@jupyter-widgets/controls",
            "_model_module_version": "1.5.0",
            "value": " 452/452 [00:01&lt;00:00, 431.71it/s]",
            "_view_count": null,
            "_view_module_version": "1.5.0",
            "description_tooltip": null,
            "_model_module": "@jupyter-widgets/controls",
            "layout": "IPY_MODEL_a75fe181dcb54b7f8fef780e2ed911d7"
          }
        },
        "fdca42fb743f4a69b91c58c87cad842e": {
          "model_module": "@jupyter-widgets/controls",
          "model_name": "ProgressStyleModel",
          "state": {
            "_view_name": "StyleView",
            "_model_name": "ProgressStyleModel",
            "description_width": "initial",
            "_view_module": "@jupyter-widgets/base",
            "_model_module_version": "1.5.0",
            "_view_count": null,
            "_view_module_version": "1.2.0",
            "bar_color": null,
            "_model_module": "@jupyter-widgets/controls"
          }
        },
        "b356c52fb48946758bcd403e1d5b2969": {
          "model_module": "@jupyter-widgets/base",
          "model_name": "LayoutModel",
          "state": {
            "_view_name": "LayoutView",
            "grid_template_rows": null,
            "right": null,
            "justify_content": null,
            "_view_module": "@jupyter-widgets/base",
            "overflow": null,
            "_model_module_version": "1.2.0",
            "_view_count": null,
            "flex_flow": null,
            "width": null,
            "min_width": null,
            "border": null,
            "align_items": null,
            "bottom": null,
            "_model_module": "@jupyter-widgets/base",
            "top": null,
            "grid_column": null,
            "overflow_y": null,
            "overflow_x": null,
            "grid_auto_flow": null,
            "grid_area": null,
            "grid_template_columns": null,
            "flex": null,
            "_model_name": "LayoutModel",
            "justify_items": null,
            "grid_row": null,
            "max_height": null,
            "align_content": null,
            "visibility": null,
            "align_self": null,
            "height": null,
            "min_height": null,
            "padding": null,
            "grid_auto_rows": null,
            "grid_gap": null,
            "max_width": null,
            "order": null,
            "_view_module_version": "1.2.0",
            "grid_template_areas": null,
            "object_position": null,
            "object_fit": null,
            "grid_auto_columns": null,
            "margin": null,
            "display": null,
            "left": null
          }
        },
        "c2f9e09a1f1a4d90a85bb28a750ca0c4": {
          "model_module": "@jupyter-widgets/controls",
          "model_name": "DescriptionStyleModel",
          "state": {
            "_view_name": "StyleView",
            "_model_name": "DescriptionStyleModel",
            "description_width": "",
            "_view_module": "@jupyter-widgets/base",
            "_model_module_version": "1.5.0",
            "_view_count": null,
            "_view_module_version": "1.2.0",
            "_model_module": "@jupyter-widgets/controls"
          }
        },
        "a75fe181dcb54b7f8fef780e2ed911d7": {
          "model_module": "@jupyter-widgets/base",
          "model_name": "LayoutModel",
          "state": {
            "_view_name": "LayoutView",
            "grid_template_rows": null,
            "right": null,
            "justify_content": null,
            "_view_module": "@jupyter-widgets/base",
            "overflow": null,
            "_model_module_version": "1.2.0",
            "_view_count": null,
            "flex_flow": null,
            "width": null,
            "min_width": null,
            "border": null,
            "align_items": null,
            "bottom": null,
            "_model_module": "@jupyter-widgets/base",
            "top": null,
            "grid_column": null,
            "overflow_y": null,
            "overflow_x": null,
            "grid_auto_flow": null,
            "grid_area": null,
            "grid_template_columns": null,
            "flex": null,
            "_model_name": "LayoutModel",
            "justify_items": null,
            "grid_row": null,
            "max_height": null,
            "align_content": null,
            "visibility": null,
            "align_self": null,
            "height": null,
            "min_height": null,
            "padding": null,
            "grid_auto_rows": null,
            "grid_gap": null,
            "max_width": null,
            "order": null,
            "_view_module_version": "1.2.0",
            "grid_template_areas": null,
            "object_position": null,
            "object_fit": null,
            "grid_auto_columns": null,
            "margin": null,
            "display": null,
            "left": null
          }
        }
      }
    }
  },
  "cells": [
    {
      "cell_type": "markdown",
      "metadata": {
        "id": "ecoNLbOgEjuC"
      },
      "source": [
        "# ***Alexanda Apostolopoulou***\n",
        "# ***1115201700005***\n",
        "# *Project 3 in AI (II)* "
      ]
    },
    {
      "cell_type": "markdown",
      "metadata": {
        "id": "IEeLkQCNFTmm"
      },
      "source": [
        "## Import some useful libraries"
      ]
    },
    {
      "cell_type": "code",
      "metadata": {
        "id": "ygeG-ZwxV_6t"
      },
      "source": [
        "import pandas as pd\n",
        "import string\n",
        "import os\n",
        "import numpy as np\n",
        "from wordcloud import WordCloud, STOPWORDS, ImageColorGenerator\n",
        "from PIL import Image\n",
        "import urllib\n",
        "import requests\n",
        "import matplotlib.pyplot as plt\n",
        "from sklearn.model_selection import train_test_split,cross_val_score\n",
        "from sklearn.metrics import roc_curve, auc, classification_report\n",
        "from sklearn.preprocessing import label_binarize\n",
        "from sklearn.naive_bayes import GaussianNB\n",
        "from sklearn.model_selection import cross_val_score\n",
        "import time\n",
        "import glob\n",
        "import seaborn as sns\n",
        "import matplotlib.pyplot as plt\n",
        "import operator\n",
        "import folium\n",
        "from itertools import cycle, islice\n",
        "from pandas import options\n",
        "import warnings\n",
        "import pickle\n",
        "import re\n",
        "import nltk\n",
        "import torch.nn as nn\n",
        "import torch.nn.functional as F\n",
        "import torch.optim as optim\n",
        "import torch\n",
        "from matplotlib.pyplot import figure\n",
        "from nltk.corpus import stopwords \n",
        "import nltk\n",
        "from torchtext import data\n",
        "from torchtext.vocab import Vectors, GloVe\n",
        "import torch.nn.functional as F\n",
        "from torch.autograd import Variable\n",
        "import torchtext\n",
        "from tqdm.notebook import tqdm"
      ],
      "execution_count": null,
      "outputs": []
    },
    {
      "cell_type": "markdown",
      "metadata": {
        "id": "ZnuBVHCELYVw"
      },
      "source": [
        "## ***Step 1***: Load the data of preprocessing Notebook\n"
      ]
    },
    {
      "cell_type": "markdown",
      "metadata": {
        "id": "4rFL_2joFjd4"
      },
      "source": [
        "Here I have to mention that I load the half dataset (of 5000.000 tweets), since I want to save time for my research and because I didn't observe any improvement in the performance of my LSTM/GRU model when I load all the dataset.\n",
        "\n",
        "The proprocess of the data remains exactly the same as in the first and the second project that I already done.\n",
        "\n",
        "There are some notes and comments in the preprocessing notebook, in which I explain extensively what I have done."
      ]
    },
    {
      "cell_type": "code",
      "metadata": {
        "id": "Npp4DwtBLX6q"
      },
      "source": [
        "x_train_file = open('/content/drive/My Drive/X_train.pkl', 'rb')\n",
        "X_train = pickle.load(x_train_file)\n",
        "\n",
        "x_test_file = open('/content/drive/My Drive/X_test.pkl', 'rb')\n",
        "X_test = pickle.load(x_test_file)\n",
        "\n",
        "y_train_file = open('/content/drive/My Drive/Y_train.pkl', 'rb')\n",
        "Y_train = pickle.load(y_train_file)\n",
        "\n",
        "y_test_file = open('/content/drive/My Drive/Y_test.pkl', 'rb')\n",
        "Y_test = pickle.load(y_test_file)\n",
        "\n",
        "x_val_file = open('/content/drive/My Drive/X_val.pkl', 'rb')\n",
        "X_val = pickle.load(x_val_file)\n",
        "\n",
        "y_val_file = open('/content/drive/My Drive/Y_val.pkl', 'rb')\n",
        "Y_val = pickle.load(y_val_file)"
      ],
      "execution_count": null,
      "outputs": []
    },
    {
      "cell_type": "markdown",
      "metadata": {
        "id": "qeWewExZyQdj"
      },
      "source": [
        "Here, as you can see, I concatenate all the X data with the Y data, in order to make it easy to use the Tabular Dataset and the Bucket Iterator."
      ]
    },
    {
      "cell_type": "code",
      "metadata": {
        "colab": {
          "base_uri": "https://localhost:8080/"
        },
        "id": "BuRR-hGIyUYv",
        "outputId": "9fb1bd13-9911-4915-f576-9487ab672f9b"
      },
      "source": [
        "train = pd.concat([X_train, Y_train], axis=1)\n",
        "print(train.shape)\n",
        "\n",
        "valid = pd.concat([X_val, Y_val], axis=1)\n",
        "print(valid.shape)\n",
        "\n",
        "test = pd.concat([X_test, Y_test], axis=1)\n",
        "print(test.shape)"
      ],
      "execution_count": null,
      "outputs": [
        {
          "output_type": "stream",
          "text": [
            "(495012, 2)\n",
            "(2488, 2)\n",
            "(2500, 2)\n"
          ],
          "name": "stdout"
        }
      ]
    },
    {
      "cell_type": "markdown",
      "metadata": {
        "id": "xQwRZKxJVjuJ"
      },
      "source": [
        "I save the train, valid and test data in .csv files."
      ]
    },
    {
      "cell_type": "code",
      "metadata": {
        "id": "gBAmijpMyqPS"
      },
      "source": [
        "train.to_csv(\"/content/drive/My Drive/torchtext_data/train.csv\", index=False)\n",
        "test.to_csv(\"/content/drive/My Drive/torchtext_data/test.csv\", index=False)\n",
        "valid.to_csv(\"/content/drive/My Drive/torchtext_data/valid.csv\", index=False)"
      ],
      "execution_count": null,
      "outputs": []
    },
    {
      "cell_type": "markdown",
      "metadata": {
        "id": "n04wo0dkV7Ys"
      },
      "source": [
        "## ***Step 2***: Use Cuda/GPU\n"
      ]
    },
    {
      "cell_type": "markdown",
      "metadata": {
        "id": "FQQrsCtbWQ2G"
      },
      "source": [
        "Here I use the GPU (whenever I can) that google colab offer to its users.\n",
        "\n",
        "As in the other Projects, GPU is very important to run the notebook, since without it, it take several hours to run and see some results. The dataset is very big to have the ability to run with my CPU. "
      ]
    },
    {
      "cell_type": "code",
      "metadata": {
        "colab": {
          "base_uri": "https://localhost:8080/"
        },
        "id": "WhBnv4LBzRuD",
        "outputId": "03b2d714-f678-418e-f263-8db876817b6f"
      },
      "source": [
        "# Use cuda if present\n",
        "device = torch.device(\"cuda\" if torch.cuda.is_available() else \"cpu\")\n",
        "print(\"Device available for running: \")\n",
        "print(device)"
      ],
      "execution_count": null,
      "outputs": [
        {
          "output_type": "stream",
          "text": [
            "Device available for running: \n",
            "cuda\n"
          ],
          "name": "stdout"
        }
      ]
    },
    {
      "cell_type": "markdown",
      "metadata": {
        "id": "h16bStUqaDyI"
      },
      "source": [
        "## ***Step 3***: Prepare our data using TorchText TabularDataset and BucketIterator\n"
      ]
    },
    {
      "cell_type": "markdown",
      "metadata": {
        "id": "0vH8VbvoZ_1H"
      },
      "source": [
        "Here, we want to tokenize the text using Torchtext and Spacy together. Spacy is a library that has been specifically built to take sentences in various languages and split them into different tokens.\n",
        "\n",
        "So, I have created two field objects that later will be able to process/tokenize our text (tweets). The label field is a shallow wrapper around a standard field designed to hold labels for a classification task."
      ]
    },
    {
      "cell_type": "code",
      "metadata": {
        "id": "bQQ80Fq4ziGq"
      },
      "source": [
        "# tokenizer = \"spacy\" uses spacy's tokenizer\n",
        "TEXT = data.Field(sequential=True, tokenize=\"spacy\", lower=True, batch_first=True)\n",
        "LABEL = data.LabelField(dtype=torch.long, sequential=False)"
      ],
      "execution_count": null,
      "outputs": []
    },
    {
      "cell_type": "markdown",
      "metadata": {
        "id": "83YhBHoNdG4p"
      },
      "source": [
        "Here I use the Torchtext **TabularDataset** function, which creates datasets from spreadsheet formats.\n",
        "\n",
        "Calling the TabularDataset.splits returns a train, a validation and a test dataset with the respective data loaded into them, processed (tokenized) according to the fields I defined earlier."
      ]
    },
    {
      "cell_type": "code",
      "metadata": {
        "id": "1jfKpX3F0FtV"
      },
      "source": [
        "# loading train, test and validation data \n",
        "train_data, valid_data, test_data = data.TabularDataset.splits(\n",
        "    path=\"/content/drive/My Drive/torchtext_data/\", train=\"train.csv\", \n",
        "    validation=\"valid.csv\", test=\"test.csv\",format=\"csv\", skip_header=True, \n",
        "    fields=[('Text', TEXT), ('Label', LABEL)]\n",
        ")"
      ],
      "execution_count": null,
      "outputs": []
    },
    {
      "cell_type": "code",
      "metadata": {
        "id": "ZfQt8FMR3aj8",
        "colab": {
          "base_uri": "https://localhost:8080/"
        },
        "outputId": "65b6600b-5750-4ee2-d611-11d413c261eb"
      },
      "source": [
        "print(f'Number of training examples: {len(train_data)}')\n",
        "print(f'Number of valid examples: {len(valid_data)}')\n",
        "print(f'Number of testing examples: {len(test_data)}')"
      ],
      "execution_count": null,
      "outputs": [
        {
          "output_type": "stream",
          "text": [
            "Number of training examples: 495012\n",
            "Number of valid examples: 2488\n",
            "Number of testing examples: 2500\n"
          ],
          "name": "stdout"
        }
      ]
    },
    {
      "cell_type": "markdown",
      "metadata": {
        "id": "BKutrV7wf9bA"
      },
      "source": [
        "After we have done with the TabularDataset.splits, we built the ***vocabularies***, in order to index all the tokens and see what numbers the tokens have been assigned and vice versa in each field.\n",
        "\n",
        "For the indexing I used the Glove file of 50 dimensions, with 20.000 most popular words and with each word have a frequency of at least 5 times. I have to mention that I tried to load more dimensions, such as 200, to see if it gives me better results, but it was more time-consuming and it wasn't improve my scores."
      ]
    },
    {
      "cell_type": "code",
      "metadata": {
        "id": "yNPupTtc3fKp"
      },
      "source": [
        "TEXT.build_vocab(train_data, valid_data, test_data, vectors=torchtext.vocab.Vectors('/content/drive/My Drive/glove.6B.50d.txt'), max_size=20000, min_freq=5)\n",
        "# TEXT.build_vocab(train_data, valid_data, test_data, vectors=torchtext.vocab.Vectors('/content/drive/My Drive/glove.6B.50d.txt'))\n",
        "# TEXT.build_vocab(train_data, vectors=GloVe(name='6B', dim=200), max_size=20000, min_freq=10)\n",
        "LABEL.build_vocab(train_data)"
      ],
      "execution_count": null,
      "outputs": []
    },
    {
      "cell_type": "markdown",
      "metadata": {
        "id": "3sxMvPW_iJKY"
      },
      "source": [
        "I saved my Glove vocabulary, so as to not need to build this from scratch every time."
      ]
    },
    {
      "cell_type": "code",
      "metadata": {
        "id": "9Npge1S4Pme4"
      },
      "source": [
        "# Save GloVe dictionary.\n",
        "vocab_text_file = open(\"/content/drive/My Drive/vocab_text.pkl\", \"wb\")\n",
        "pickle.dump(TEXT.vocab,vocab_text_file)\n",
        "vocab_text_file.close()\n",
        "\n",
        "# Load GloVe dictionary.\n",
        "vocab_text_file = open(\"/content/drive/My Drive/vocab_text.pkl\", \"rb\")\n",
        "vocab_text = pickle.load(vocab_text_file)\n",
        "# glove_file.close()"
      ],
      "execution_count": null,
      "outputs": []
    },
    {
      "cell_type": "code",
      "metadata": {
        "id": "xdQfZkKlQKly"
      },
      "source": [
        "# Save GloVe dictionary.\n",
        "vocab_labels_file = open(\"/content/drive/My Drive/vocab_labels.pkl\", \"wb\")\n",
        "pickle.dump(LABEL.vocab,vocab_labels_file)\n",
        "vocab_labels_file.close()\n",
        "\n",
        "# Load GloVe dictionary.\n",
        "vocab_labels_file = open(\"/content/drive/My Drive/vocab_labels.pkl\", \"rb\")\n",
        "vocab_labels = pickle.load(vocab_labels_file)\n",
        "# glove_file.close()"
      ],
      "execution_count": null,
      "outputs": []
    },
    {
      "cell_type": "markdown",
      "metadata": {
        "id": "jri4lDgBjbMg"
      },
      "source": [
        "See the length of text and label vocabulary."
      ]
    },
    {
      "cell_type": "code",
      "metadata": {
        "id": "DKeBPLgH4bUC",
        "colab": {
          "base_uri": "https://localhost:8080/"
        },
        "outputId": "54e0a2fa-3f88-452b-eb9c-2a57e045ef79"
      },
      "source": [
        "print(f\"Unique tokens in TEXT vocabulary: {len(vocab_text)}\")\n",
        "print(f\"Unique tokens in LABEL vocabulary: {len(vocab_labels)}\")"
      ],
      "execution_count": null,
      "outputs": [
        {
          "output_type": "stream",
          "text": [
            "Unique tokens in TEXT vocabulary: 20002\n",
            "Unique tokens in LABEL vocabulary: 2\n"
          ],
          "name": "stdout"
        }
      ]
    },
    {
      "cell_type": "markdown",
      "metadata": {
        "id": "v9jAz2wAjsLg"
      },
      "source": [
        "Here I assigned the word embeddings to be the vectors of glove vocabulary and the vocabulary size (input size) to be the length of glove vocabulary."
      ]
    },
    {
      "cell_type": "code",
      "metadata": {
        "id": "faORBtea7jXN",
        "colab": {
          "base_uri": "https://localhost:8080/"
        },
        "outputId": "6c75f0f3-01dd-4582-9361-7d33db842247"
      },
      "source": [
        "word_embeddings = vocab_text.vectors\n",
        "print(word_embeddings.shape)\n",
        "vocab_size = len(vocab_text)\n",
        "print(vocab_size)"
      ],
      "execution_count": null,
      "outputs": [
        {
          "output_type": "stream",
          "text": [
            "torch.Size([20002, 50])\n",
            "20002\n"
          ],
          "name": "stdout"
        }
      ]
    },
    {
      "cell_type": "markdown",
      "metadata": {
        "id": "7fCZIerXmXAd"
      },
      "source": [
        "Here I create three iterators for train, validation and test data with the **BucketIterator.splits**. \n",
        "\n",
        "In each batch, the sentences have been transposed so they are descending vertically. Each index represents a token (word), and each column represents a sentence. We have as much columns as was the batch_size we specified.\n",
        "\n",
        "The lambda function tells the iterator to try and find sentences of the same length (meaning more of the matrix is filled with useful data and less with padding)."
      ]
    },
    {
      "cell_type": "code",
      "metadata": {
        "id": "8CW2BhQV5YgB"
      },
      "source": [
        "BATCH_SIZE = 2048\n",
        "\n",
        "device = torch.device('cuda' if torch.cuda.is_available() else 'cpu')\n",
        "\n",
        "train_iter, valid_iter, test_iter = data.BucketIterator.splits(\n",
        "    (train_data, valid_data, test_data), sort_key=lambda x: len(x.Text),\n",
        "    batch_size=BATCH_SIZE, repeat=False, shuffle=True,\n",
        "    device=device)"
      ],
      "execution_count": null,
      "outputs": []
    },
    {
      "cell_type": "code",
      "metadata": {
        "id": "fkO_u88hnp6Z"
      },
      "source": [
        "# batch = next(iter(train_iter))\n",
        "# print(batch.Text)"
      ],
      "execution_count": null,
      "outputs": []
    },
    {
      "cell_type": "markdown",
      "metadata": {
        "id": "b42utj9l1Tbn"
      },
      "source": [
        "Here I see the number of positive and negative tweets, in order to ensure that we have a (class) **balanced** dataset."
      ]
    },
    {
      "cell_type": "code",
      "metadata": {
        "id": "HkGT0IVR5gk0",
        "colab": {
          "base_uri": "https://localhost:8080/"
        },
        "outputId": "19cdaeb4-611e-47ad-eed9-caa01fb42f85"
      },
      "source": [
        "vocab_labels.freqs"
      ],
      "execution_count": null,
      "outputs": [
        {
          "output_type": "execute_result",
          "data": {
            "text/plain": [
              "Counter({'0': 246652, '1': 248360})"
            ]
          },
          "metadata": {
            "tags": []
          },
          "execution_count": 16
        }
      ]
    },
    {
      "cell_type": "markdown",
      "metadata": {
        "id": "AB75YO9sEDVW"
      },
      "source": [
        "## ***Step 4***: Built the model"
      ]
    },
    {
      "cell_type": "markdown",
      "metadata": {
        "id": "ojR5EwyiTPDF"
      },
      "source": [
        "Here is the RNN Classifier with LSTM or GRU cells and some functions of them:\n",
        "- **_init_** (constructor): \n",
        "  - I inspired from the tutorials that assistants show us, so I can call the RNNClassifier with either LSTM or GRU cells. The sentiment classifier is a bidirectional stacked RNN, so I use at least 2 layers and the bidirectional is not an option, but mandatory. I load to the model the word embeddings that I just found with help of Glove and I update it with their weights. For this reason, as you can see I used an ***Embedding layer*** that creates a look up table where each row represents an embedding of a word. The embedding layer converts the integer sequence into a dense vector representation. Here are the two most important parameters of the embedding layer: \n",
        "    1. num_embeddings: Number of unique words in dictionary\n",
        "    2. embedding_dim:  Number of dimensions for representing a word (here we have 50 dimensions from Glove)\n",
        "\n",
        "  - After the Embedding layer I used a ***Linear Layer*** that refers to dense layer. The number of hidden size that has as a parameter is two times of the initial hidden size because our model is bidirectional (have 2 more layers as the output to the final layer).\n",
        "\n",
        "  - Above these layers I added some Dropout layers but I didn't always use them.\n",
        "\n",
        "  - The final output is being transformed from the predicted logits to probabilities using a sigmoid function, as requested.\n",
        "\n",
        "- ***forward***: Forward function defines the forward pass of the inputs. I have to mention that as the assistants show us, I keep only the hidden representation of the last item of the sequence as the representative of the sample. Firstly, I pass the tweets through the embedding layer to get the embeddings, pass it through the LSTM cells, learn from both directions, pass it through the fully connected linear layer, and finally sigmoid to get the probability of the sequences.\n",
        "\n",
        "- ***init_hidden***: Initializes the hidden states with zeros.\n",
        "\n",
        " "
      ]
    },
    {
      "cell_type": "code",
      "metadata": {
        "id": "b6HqryaxFG_7"
      },
      "source": [
        "class RNNClassifier_(torch.nn.Module):\n",
        "    def __init__(self, cell_type, vocab_size, output_size, embedding_dim, hidden_dim, n_layers, weights):\n",
        "        super(RNNClassifier_, self).__init__()\n",
        "\n",
        "        cells = {\n",
        "        \"LSTM\"    : nn.LSTM,\n",
        "        \"GRU\"     : nn.GRU\n",
        "        }   \n",
        "        \n",
        "        self.output_size = output_size\n",
        "        self.embedding_dim = embedding_dim\n",
        "        self.n_layers = n_layers\n",
        "        self.hidden_dim = hidden_dim\n",
        "        self.cell_type = cell_type\n",
        "        self.word_embeddings = torch.nn.Embedding(vocab_size, embedding_dim)\n",
        "        self.word_embeddings.weight = torch.nn.Parameter(weights, requires_grad=False)\n",
        "\n",
        "        # self.dropout_1 = torch.nn.Dropout(0.2)\n",
        "\n",
        "        self.nn = cells[cell_type](     # Pick the specific model\n",
        "        input_size=self.embedding_dim,  # Number of features for each time step\n",
        "        hidden_size=self.hidden_dim,    # LSTM/GRU hidden embedding representation\n",
        "        num_layers=self.n_layers,       # Number of layers (if >1 it is a stacked RNN)\n",
        "        bidirectional=True,             # If true we have bidirectional \n",
        "        batch_first=True,               # input & output will have batch size as 1st dimension. e.g. (batch, time_step, input_size)\n",
        "        # dropout=0.2                     # dropout prob >= 0.0\n",
        "        )\n",
        "\n",
        "        # self.dropout_2 = torch.nn.Dropout(0.3)\n",
        "        self.label_layer = torch.nn.Linear(hidden_dim*2, output_size)\n",
        "        \n",
        "        self.act = torch.nn.Sigmoid()\n",
        "        \n",
        "    def forward(self, x, hidden):\n",
        "        batch_size = x.size(0)\n",
        "        x = self.word_embeddings(x)\n",
        "        # x = self.dropout_1(x)\n",
        "        lstm_out, hidden = self.nn(x, hidden)\n",
        "        out = lstm_out.contiguous().view(-1, self.hidden_dim*2)\n",
        "        # out = self.dropout_2(out)\n",
        "        out = self.label_layer(out)   \n",
        "         \n",
        "        #Keep only the hidden representation of the last item of the sequence as the representative of the sample.\n",
        "        out = out.view(batch_size, -1, self.output_size)\n",
        "        out = out[:, -1, :]\n",
        "\n",
        "        out = self.act(out)\n",
        "        \n",
        "        return out, hidden\n",
        "    \n",
        "    def init_hidden(self, batch_size):\n",
        "        weight = next(self.parameters()).data\n",
        "        \n",
        "        if self.cell_type == 'LSTM':\n",
        "          hidden = (weight.new(self.n_layers*2, batch_size, self.hidden_dim).zero_().to(device),\n",
        "                    weight.new(self.n_layers*2, batch_size, self.hidden_dim).zero_().to(device))\n",
        "        else:\n",
        "          hidden = weight.new(self.n_layers*2, batch_size, self.hidden_dim).zero_().to(device)\n",
        "        \n",
        "        return hidden"
      ],
      "execution_count": null,
      "outputs": []
    },
    {
      "cell_type": "markdown",
      "metadata": {
        "id": "H5QwkCeqmLhK"
      },
      "source": [
        "## ***Step 5***: Train and Evaluate the model"
      ]
    },
    {
      "cell_type": "code",
      "metadata": {
        "id": "aOdhbZz_FaTh"
      },
      "source": [
        "def train_model(model, train_iter, val_iter, optim, loss, num_epochs, batch_size):\n",
        "  \n",
        "  clip = 5\n",
        "  \n",
        "  total_train_epoch_loss = list()\n",
        "  total_train_epoch_acc = list()\n",
        "      \n",
        "  total_val_epoch_loss = list()\n",
        "  total_val_epoch_acc = list()\n",
        "      \n",
        "  steps = list()\n",
        "  \n",
        "  device = torch.device('cuda:0' if torch.cuda.is_available()\n",
        "                          else 'cpu')\n",
        "  \n",
        "  for epoch in range(num_epochs):\n",
        "\n",
        "    #set the model in training phase\n",
        "    model.train()\n",
        "    h = model.init_hidden(batch_size)\n",
        "    \n",
        "    train_epoch_loss = list()\n",
        "    train_epoch_acc = list()\n",
        "    \n",
        "    val_epoch_loss = list()\n",
        "    val_epoch_acc = list()\n",
        "\n",
        "    steps = 0\n",
        "    \n",
        "    for idx, batch in enumerate((train_iter)):\n",
        "      if model.cell_type == 'LSTM':\n",
        "        h = tuple([e.data for e in h])\n",
        "      elif model.cell_type == 'GRU':\n",
        "        h.detach_()\n",
        "        h = h.detach()\n",
        "\n",
        "      text = batch.Text\n",
        "      target = batch.Label\n",
        "\n",
        "      target = target.type(torch.LongTensor)\n",
        "\n",
        "      text = text.to(device)\n",
        "      target = target.to(device)\n",
        "\n",
        "      #resets the gradients after every batch\n",
        "      optim.zero_grad()\n",
        "\n",
        "      if text.shape[0] != batch_size:\n",
        "        continue\n",
        "\n",
        "      prediction, h = model(text, h)\n",
        "\n",
        "      #compute the loss\n",
        "      loss_train = loss(prediction.squeeze(), target.float())\n",
        "\n",
        "      #backpropage the loss and compute the gradients\n",
        "      loss_train.backward(retain_graph=True)\n",
        "\n",
        "      #compute the binary accuracy\n",
        "      pred = torch.round(prediction.squeeze())\n",
        "      num_corrects = (pred == target).float().sum()\n",
        "      acc = 100.0 * num_corrects / len(batch)\n",
        "\n",
        "      #keep the loss and accuracies values for visualization\n",
        "      train_epoch_loss.append(loss_train.item())\n",
        "      train_epoch_acc.append(acc.item())\n",
        "      \n",
        "      #clip gradients\n",
        "      torch.nn.utils.clip_grad_norm_(model.parameters(), clip)\n",
        "      \n",
        "      #update the weights\n",
        "      optim.step()\n",
        "\n",
        "      steps += 1\n",
        "\n",
        "      # if steps % 100 == 0:\n",
        "      #   print(f'Epoch: {num_epochs}, Idx: {idx+1}, Training Loss: {loss_train.item():.4f}, Training Accuracy: {acc.item(): .2f}%')\n",
        "      \n",
        "    print(f'Train Epoch: {epoch}, Training Loss: {np.mean(train_epoch_loss):.4f}, Training Accuracy: {np.mean(train_epoch_acc): .2f}%')\n",
        "\n",
        "    #set the model in evaluating phase\n",
        "    model.eval()\n",
        "    val_h = model.init_hidden(batch_size)\n",
        "\n",
        "    #deactivates autograd\n",
        "    with torch.no_grad():\n",
        "      for idx, batch in enumerate((valid_iter)):\n",
        "        if model.cell_type == 'LSTM':\n",
        "          val_h = tuple([e.data for e in val_h])\n",
        "        elif model.cell_type == 'GRU':\n",
        "          val_h.detach_()\n",
        "          val_h = val_h.detach()\n",
        "\n",
        "        text = batch.Text\n",
        "        target = batch.Label\n",
        "        \n",
        "        target = target.type(torch.LongTensor)\n",
        "        \n",
        "        text = text.to(device)\n",
        "        target = target.to(device)\n",
        "            \n",
        "        if text.shape[0] != batch_size:\n",
        "          continue\n",
        "\n",
        "        prediction, val_h = model(text, val_h)\n",
        "\n",
        "        #compute loss\n",
        "        loss_val = loss(prediction.squeeze(), target.float())\n",
        "\n",
        "        #compute accuracy\n",
        "        pred = torch.round(prediction.squeeze())\n",
        "        num_corrects = (pred == target).float().sum()\n",
        "        acc = 100.0 * num_corrects / len(batch)\n",
        "\n",
        "        #keep the loss and accuracies values for visualization\n",
        "        val_epoch_loss.append(loss_val.item())\n",
        "        val_epoch_acc.append(acc.item())\n",
        "\n",
        "        # # if steps_ % 10 == 0:\n",
        "        # print(f'Epoch: {num_epochs}, Idx: {idx+1}, Validation Loss: {loss_train.item():.4f}, Validation Accuracy: {acc.item(): .2f}%')\n",
        "   \n",
        "    print(f'Validation Epoch: {epoch}, Validation Loss: {np.mean(val_epoch_loss):.4f}, Validation Accuracy: {np.mean(val_epoch_acc): .2f}%')\n",
        "                            \n",
        "    total_train_epoch_loss.append(np.mean(train_epoch_loss))\n",
        "    total_train_epoch_acc.append(np.mean(train_epoch_acc))\n",
        "\n",
        "    total_val_epoch_loss.append(np.mean(val_epoch_loss))\n",
        "    total_val_epoch_acc.append(np.mean(val_epoch_acc))\n",
        "  \n",
        "  return (total_train_epoch_loss, total_train_epoch_acc,\n",
        "          total_val_epoch_loss, total_val_epoch_acc)\n",
        "\n"
      ],
      "execution_count": null,
      "outputs": []
    },
    {
      "cell_type": "markdown",
      "metadata": {
        "id": "cRxkIZdHY_nq"
      },
      "source": [
        "Here I train and evaluate the train and validation dataset. \n",
        "\n",
        "I experimented with many different values of hyparameters, since I have a big problem of overfitting (which I will explain later). I used Adam optimizer and the binary cross-entropy loss function with no logits, since I use the activation sigmoid function for the propabilites.\n",
        "\n",
        "As you can see, I print the training and validation loss and accuracy for each epoch.\n",
        "\n",
        "Ι used gradient clipping so as to prevent exploding gradients as we learnt in lectures."
      ]
    },
    {
      "cell_type": "code",
      "metadata": {
        "id": "2QGgcJnUFgKi",
        "colab": {
          "base_uri": "https://localhost:8080/"
        },
        "outputId": "707a305e-7549-47e7-b65c-81cbf3323112"
      },
      "source": [
        "#define hyperparameters\n",
        "lr = 2e-3\n",
        "\n",
        "batch_size = 2048\n",
        "# batch_size = 64\n",
        "\n",
        "output_size = 1\n",
        "num_layers = 2\n",
        "# num_layers = 5\n",
        "\n",
        "hidden_size = 128\n",
        "# hidden_size = 32\n",
        "# hidden_size = 64\n",
        "\n",
        "embedding_length = 50\n",
        "\n",
        "cell_type='GRU'\n",
        "# cell_type='LSTM'\n",
        "\n",
        "#initialize the model\n",
        "model = RNNClassifier_(cell_type, vocab_size=vocab_size, output_size=output_size, embedding_dim=embedding_length, hidden_dim=hidden_size, n_layers=num_layers, weights=word_embeddings)\n",
        "\n",
        "device = torch.device('cuda:0' if torch.cuda.is_available()\n",
        "                      else 'cpu')\n",
        "    \n",
        "model.to(device)\n",
        "\n",
        "#define optimizer and loss\n",
        "optim = torch.optim.Adam(model.parameters(), lr=lr)\n",
        "loss = nn.BCELoss().to(device)\n",
        "# loss = nn.BCEWithLogitsLoss().to(device)\n",
        "# loss = torch.nn.CrossEntropyLoss().to(device)\n",
        "\n",
        "#train and evaluate the model\n",
        "train_loss, train_acc, val_loss, val_acc = train_model(model=model, train_iter=train_iter, val_iter=valid_iter, optim=optim, loss=loss, num_epochs=10, batch_size=batch_size)"
      ],
      "execution_count": null,
      "outputs": [
        {
          "output_type": "stream",
          "text": [
            "Train Epoch: 0, Training Loss: 0.6019, Training Accuracy:  66.41%\n",
            "Validation Epoch: 0, Validation Loss: 0.5298, Validation Accuracy:  72.56%\n",
            "Train Epoch: 1, Training Loss: 0.5091, Training Accuracy:  74.77%\n",
            "Validation Epoch: 1, Validation Loss: 0.4689, Validation Accuracy:  76.76%\n",
            "Train Epoch: 2, Training Loss: 0.4728, Training Accuracy:  77.21%\n",
            "Validation Epoch: 2, Validation Loss: 0.4458, Validation Accuracy:  79.44%\n",
            "Train Epoch: 3, Training Loss: 0.4495, Training Accuracy:  78.73%\n",
            "Validation Epoch: 3, Validation Loss: 0.4392, Validation Accuracy:  79.54%\n",
            "Train Epoch: 4, Training Loss: 0.4337, Training Accuracy:  79.76%\n",
            "Validation Epoch: 4, Validation Loss: 0.4286, Validation Accuracy:  80.18%\n",
            "Train Epoch: 5, Training Loss: 0.4197, Training Accuracy:  80.64%\n",
            "Validation Epoch: 5, Validation Loss: 0.4275, Validation Accuracy:  80.42%\n",
            "Train Epoch: 6, Training Loss: 0.4074, Training Accuracy:  81.30%\n",
            "Validation Epoch: 6, Validation Loss: 0.4178, Validation Accuracy:  80.47%\n",
            "Train Epoch: 7, Training Loss: 0.3962, Training Accuracy:  81.99%\n",
            "Validation Epoch: 7, Validation Loss: 0.4218, Validation Accuracy:  79.93%\n",
            "Train Epoch: 8, Training Loss: 0.3849, Training Accuracy:  82.60%\n",
            "Validation Epoch: 8, Validation Loss: 0.4266, Validation Accuracy:  80.22%\n",
            "Train Epoch: 9, Training Loss: 0.3737, Training Accuracy:  83.23%\n",
            "Validation Epoch: 9, Validation Loss: 0.4244, Validation Accuracy:  80.52%\n"
          ],
          "name": "stdout"
        }
      ]
    },
    {
      "cell_type": "markdown",
      "metadata": {
        "id": "BqXgPWNHr63a"
      },
      "source": [
        "I print the architecture of the model."
      ]
    },
    {
      "cell_type": "code",
      "metadata": {
        "colab": {
          "base_uri": "https://localhost:8080/"
        },
        "id": "-Cs4FSjxITp5",
        "outputId": "f3192453-cbff-4d1f-eaf0-6eb7b356b75d"
      },
      "source": [
        "print(model)"
      ],
      "execution_count": null,
      "outputs": [
        {
          "output_type": "stream",
          "text": [
            "RNNClassifier_(\n",
            "  (word_embeddings): Embedding(20002, 50)\n",
            "  (nn): GRU(50, 128, num_layers=2, batch_first=True, bidirectional=True)\n",
            "  (label_layer): Linear(in_features=256, out_features=1, bias=True)\n",
            "  (act): Sigmoid()\n",
            ")\n"
          ],
          "name": "stdout"
        }
      ]
    },
    {
      "cell_type": "markdown",
      "metadata": {
        "id": "Fok59aPTsDoe"
      },
      "source": [
        "## ***Step 6***: Plot the Learning Curves and the Accuracies"
      ]
    },
    {
      "cell_type": "markdown",
      "metadata": {
        "id": "eNTGUDLW3NzI"
      },
      "source": [
        "I could applied the early stopping method or stopped in only 4-5 epochs but I wanted you to see that there wasn't any reason to continue the training, since overfitting happened after 4-5 epochs. \n",
        "\n"
      ]
    },
    {
      "cell_type": "code",
      "metadata": {
        "id": "wi2-wh-bRWJy",
        "colab": {
          "base_uri": "https://localhost:8080/",
          "height": 497
        },
        "outputId": "caa993de-a167-43b6-de2f-1d2595be669f"
      },
      "source": [
        "plt.figure(figsize=(10, 6))\n",
        "plt.title('Loss')\n",
        "_=axs.axvline(x=early_stopping,color='r')\n",
        "sns.lineplot(range(len(train_loss)), train_loss, label='train')\n",
        "sns.lineplot(range(len(val_loss)), val_loss, label='test')"
      ],
      "execution_count": null,
      "outputs": [
        {
          "output_type": "stream",
          "text": [
            "/usr/local/lib/python3.6/dist-packages/seaborn/_decorators.py:43: FutureWarning: Pass the following variables as keyword args: x, y. From version 0.12, the only valid positional argument will be `data`, and passing other arguments without an explicit keyword will result in an error or misinterpretation.\n",
            "  FutureWarning\n",
            "/usr/local/lib/python3.6/dist-packages/seaborn/_decorators.py:43: FutureWarning: Pass the following variables as keyword args: x, y. From version 0.12, the only valid positional argument will be `data`, and passing other arguments without an explicit keyword will result in an error or misinterpretation.\n",
            "  FutureWarning\n"
          ],
          "name": "stderr"
        },
        {
          "output_type": "execute_result",
          "data": {
            "text/plain": [
              "<matplotlib.axes._subplots.AxesSubplot at 0x7f411f8b10b8>"
            ]
          },
          "metadata": {
            "tags": []
          },
          "execution_count": 21
        },
        {
          "output_type": "display_data",
          "data": {
            "image/png": "[encoded data removed]",
            "text/plain": [
              "<Figure size 720x432 with 1 Axes>"
            ]
          },
          "metadata": {
            "tags": [],
            "needs_background": "light"
          }
        }
      ]
    },
    {
      "cell_type": "code",
      "metadata": {
        "id": "fpfbBDBiu5KJ",
        "colab": {
          "base_uri": "https://localhost:8080/",
          "height": 497
        },
        "outputId": "efd7eccb-5c07-4be1-bfd7-3fcb2f6f5dc0"
      },
      "source": [
        "plt.figure(figsize=(10, 6))\n",
        "plt.title('Accuracy')\n",
        "sns.lineplot(range(len(train_acc)), train_acc, label='train')\n",
        "sns.lineplot(range(len(val_acc)), val_acc, label='test')"
      ],
      "execution_count": null,
      "outputs": [
        {
          "output_type": "stream",
          "text": [
            "/usr/local/lib/python3.6/dist-packages/seaborn/_decorators.py:43: FutureWarning: Pass the following variables as keyword args: x, y. From version 0.12, the only valid positional argument will be `data`, and passing other arguments without an explicit keyword will result in an error or misinterpretation.\n",
            "  FutureWarning\n",
            "/usr/local/lib/python3.6/dist-packages/seaborn/_decorators.py:43: FutureWarning: Pass the following variables as keyword args: x, y. From version 0.12, the only valid positional argument will be `data`, and passing other arguments without an explicit keyword will result in an error or misinterpretation.\n",
            "  FutureWarning\n"
          ],
          "name": "stderr"
        },
        {
          "output_type": "execute_result",
          "data": {
            "text/plain": [
              "<matplotlib.axes._subplots.AxesSubplot at 0x7f41207bcf98>"
            ]
          },
          "metadata": {
            "tags": []
          },
          "execution_count": 22
        },
        {
          "output_type": "display_data",
          "data": {
            "image/png": "[encoded data removed]",
            "text/plain": [
              "<Figure size 720x432 with 1 Axes>"
            ]
          },
          "metadata": {
            "tags": [],
            "needs_background": "light"
          }
        }
      ]
    },
    {
      "cell_type": "markdown",
      "metadata": {
        "id": "Dd7bAmYotI5h"
      },
      "source": [
        "## ***Step 6***: Evaluate the test dataset"
      ]
    },
    {
      "cell_type": "markdown",
      "metadata": {
        "id": "tGP9Ox0ZtkhD"
      },
      "source": [
        "Find the accuracy of test dataset, using the same code as the validation evaluation before."
      ]
    },
    {
      "cell_type": "code",
      "metadata": {
        "id": "EVTvesXou7CW",
        "colab": {
          "base_uri": "https://localhost:8080/",
          "height": 84,
          "referenced_widgets": [
            "639ae4fd3df447cda32e7976694bcf85",
            "cb63d691cf8945f8a829fc61c9996d08",
            "f9f0a2534d6142aaae40918c8a279a91",
            "9ad82ae1b0ae45d4940ae106b2f4cc83",
            "297deb9daa1a47b9ad091cdfa860248e",
            "6b5eed4f9913402798c887f435663dab",
            "253e5746108849fe87398d72976b89e1",
            "bd6df8c7a30a42a985196f71a0c99ebc"
          ]
        },
        "outputId": "0300bdbd-5fca-4c4d-ebab-3de1c64016a8"
      },
      "source": [
        "model.eval()\n",
        "test_h = model.init_hidden(batch_size)\n",
        "\n",
        "with torch.no_grad():\n",
        "  test_acc = list()\n",
        "  for idx, batch in enumerate(tqdm(test_iter)):\n",
        "    if model.cell_type == 'LSTM':\n",
        "      test_h = tuple([e.data for e in test_h])\n",
        "    elif model.cell_type == 'GRU':\n",
        "      test_h.detach_()\n",
        "      test_h = test_h.detach()\n",
        "\n",
        "    text = batch.Text\n",
        "    target = batch.Label\n",
        "    target = target.type(torch.LongTensor)\n",
        "    text = text.to(device)\n",
        "    target = target.to(device)\n",
        "\n",
        "    if text.shape[0] != batch_size:\n",
        "      continue\n",
        "\n",
        "    prediction, test_h = model(text, test_h)\n",
        "    \n",
        "    pred = torch.round(prediction.squeeze())\n",
        "    num_corrects = (pred == target).float().sum()\n",
        "    acc = 100.0 * num_corrects / len(batch)\n",
        "\n",
        "    test_acc.append(acc.item())\n",
        "\n",
        "print(f'Test Accuracy: {np.mean(test_acc): .2f}%')"
      ],
      "execution_count": null,
      "outputs": [
        {
          "output_type": "display_data",
          "data": {
            "application/vnd.jupyter.widget-view+json": {
              "model_id": "639ae4fd3df447cda32e7976694bcf85",
              "version_minor": 0,
              "version_major": 2
            },
            "text/plain": [
              "HBox(children=(FloatProgress(value=0.0, max=2.0), HTML(value='')))"
            ]
          },
          "metadata": {
            "tags": []
          }
        },
        {
          "output_type": "stream",
          "text": [
            "\n",
            "Test Accuracy:  81.10%\n"
          ],
          "name": "stdout"
        }
      ]
    },
    {
      "cell_type": "markdown",
      "metadata": {
        "id": "lgu12ueUt8P-"
      },
      "source": [
        "Find the predictions for the test dataset (not manually as before), in order to use it for classification report and the Roc Curve. My previous implementation doesn't helped me very much to use classification report and Roc Curve. However, I kept my implementation of test accuracy to compare my results with the results of classification report (and I realized that my test accuracy and the accuracy of classification report is the same, which is very encouraging)."
      ]
    },
    {
      "cell_type": "code",
      "metadata": {
        "id": "esFoO-_Qt19o",
        "colab": {
          "base_uri": "https://localhost:8080/",
          "height": 165,
          "referenced_widgets": [
            "2b31f5ed318f4d7e8eb688593dd2923e",
            "47977c425d704f6bbd8e7aa94581ad80",
            "8850b225f70845f499cba173a7e51ad2",
            "e224fa1300b64560ae96c10e37fd45d3",
            "2dd7078808c14d9b9c4df9d7b0c7ef71",
            "d1932ba645704f5caaa2e790299c61a9",
            "4f20356a51bd4d409e0628856239cf07",
            "0ef9b72c4253459e900d233f68c99523",
            "baee1bc367894c04980f138db99c581e",
            "44ccb7c36de649408b8678b9886a9d02",
            "ea1945561b744543836a7a8e6a25f2e4",
            "4c73512fb8954a3a8edff6972e8d819c",
            "2bc06d3d52df4903bbc26e808eff5758",
            "0c7aea605dc5408a860e59bdddcf8018",
            "b0747af85ed2451a8fa952b78a31948c",
            "d46a7814f7fb4b6a9ef6d9dc60a2c326",
            "327afd4b342f4991876b17172e58d9db",
            "e18b768799294d1abb94a75d016b7133",
            "159c51db40514ea89e664f4d76edf02e",
            "29b3f270abe34c8b80716ab7d524d62d",
            "fdca42fb743f4a69b91c58c87cad842e",
            "b356c52fb48946758bcd403e1d5b2969",
            "c2f9e09a1f1a4d90a85bb28a750ca0c4",
            "a75fe181dcb54b7f8fef780e2ed911d7"
          ]
        },
        "outputId": "e4ac92bb-f8a9-4c21-ebfb-2282545a9d2f"
      },
      "source": [
        "results_target = list()\n",
        "results_true_label = list()\n",
        "\n",
        "with torch.no_grad():\n",
        "    for batch in tqdm(test_iter):\n",
        "        for label in tqdm(batch.Label):\n",
        "            results_true_label.append(label.item())\n",
        "        for text in batch.Text:\n",
        "            text = text.unsqueeze(0)\n",
        "            res, _ = model(text, hidden=None)\n",
        "\n",
        "            target = np.round(res.cpu().numpy())\n",
        "            \n",
        "            results_target.append(target[0])"
      ],
      "execution_count": null,
      "outputs": [
        {
          "output_type": "display_data",
          "data": {
            "application/vnd.jupyter.widget-view+json": {
              "model_id": "2b31f5ed318f4d7e8eb688593dd2923e",
              "version_minor": 0,
              "version_major": 2
            },
            "text/plain": [
              "HBox(children=(FloatProgress(value=0.0, max=2.0), HTML(value='')))"
            ]
          },
          "metadata": {
            "tags": []
          }
        },
        {
          "output_type": "display_data",
          "data": {
            "application/vnd.jupyter.widget-view+json": {
              "model_id": "baee1bc367894c04980f138db99c581e",
              "version_minor": 0,
              "version_major": 2
            },
            "text/plain": [
              "HBox(children=(FloatProgress(value=0.0, max=2048.0), HTML(value='')))"
            ]
          },
          "metadata": {
            "tags": []
          }
        },
        {
          "output_type": "stream",
          "text": [
            "\n"
          ],
          "name": "stdout"
        },
        {
          "output_type": "display_data",
          "data": {
            "application/vnd.jupyter.widget-view+json": {
              "model_id": "327afd4b342f4991876b17172e58d9db",
              "version_minor": 0,
              "version_major": 2
            },
            "text/plain": [
              "HBox(children=(FloatProgress(value=0.0, max=452.0), HTML(value='')))"
            ]
          },
          "metadata": {
            "tags": []
          }
        },
        {
          "output_type": "stream",
          "text": [
            "\n",
            "\n"
          ],
          "name": "stdout"
        }
      ]
    },
    {
      "cell_type": "code",
      "metadata": {
        "id": "NSa40mf-8wFN"
      },
      "source": [
        "df_pred_labels = pd.DataFrame (results_target, columns = ['target'])\n",
        "df_true_labels = pd.DataFrame(results_true_label, columns=['target'])"
      ],
      "execution_count": null,
      "outputs": []
    },
    {
      "cell_type": "code",
      "metadata": {
        "id": "Wizex6Mw9IGV"
      },
      "source": [
        "df_pred_labels['target'] = list(map(int, results_target))\n",
        "df_true_labels['target'] = list(map(int, results_true_label))"
      ],
      "execution_count": null,
      "outputs": []
    },
    {
      "cell_type": "code",
      "metadata": {
        "id": "jlijVaYg9Qcl",
        "colab": {
          "base_uri": "https://localhost:8080/"
        },
        "outputId": "108482e7-81e2-4199-b1e4-a33782a766b2"
      },
      "source": [
        "print(classification_report(df_true_labels,df_pred_labels))"
      ],
      "execution_count": null,
      "outputs": [
        {
          "output_type": "stream",
          "text": [
            "              precision    recall  f1-score   support\n",
            "\n",
            "           0       0.80      0.80      0.80      1219\n",
            "           1       0.81      0.81      0.81      1281\n",
            "\n",
            "    accuracy                           0.81      2500\n",
            "   macro avg       0.81      0.81      0.81      2500\n",
            "weighted avg       0.81      0.81      0.81      2500\n",
            "\n"
          ],
          "name": "stdout"
        }
      ]
    },
    {
      "cell_type": "markdown",
      "metadata": {
        "id": "F7TNs3cbvu93"
      },
      "source": [
        "## ***Step 7***: Plot Roc Curve"
      ]
    },
    {
      "cell_type": "markdown",
      "metadata": {
        "id": "aN3MsuW99_01"
      },
      "source": [
        "**Roc Curve** tells us how much model is capable of distinguishing between classes. Higher the AUC, better the model is at predicting 0s as 0s and 1s as 1s. The ROC curve is plotted with TPR against the FPR where TPR is on y-axis and FPR is on the x-axis. From theory of Machine Learning Lectures, we learned that false positive fraction = FP/(FP+TN) and true positive fraction = TP/(TP+FN). We notice that AUC is 0.81, which means there is 81% chance that model will be able to distinguish between positive and negative class. As you can see the Roc Curve isn't so smooth as it used to be to previous Projects. It might means that my model can only provide discrete predictions, rather than a continuous score (maybe the few epochs is responsible for it)."
      ]
    },
    {
      "cell_type": "code",
      "metadata": {
        "id": "V9wd4j_x9cVF",
        "colab": {
          "base_uri": "https://localhost:8080/",
          "height": 520
        },
        "outputId": "24fd9337-44a3-42da-9b27-4a40420f16f5"
      },
      "source": [
        "# Convert tensors to numpy arrays after we pass them to cpu.\n",
        "df = df_pred_labels.values.tolist()\n",
        "df = np.array(df)\n",
        "\n",
        "y = df_true_labels.values.tolist()\n",
        "y = np.array(y)\n",
        "\n",
        "# Label binarization and store num of classes.\n",
        "y_test = label_binarize(y, classes=[0, 1])\n",
        "n_classes = y_test.shape[1]\n",
        "\n",
        "# Compute ROC curve and ROC area for each class\n",
        "fpr = dict()\n",
        "tpr = dict()\n",
        "roc_auc = dict()\n",
        "for i in range(n_classes):\n",
        "    fpr[i], tpr[i], _ = roc_curve(y_test[:,i], df[:,i])\n",
        "    roc_auc[i] = auc(fpr[i], tpr[i])\n",
        "\n",
        "plt.figure(figsize=(8,8))\n",
        "lw = 2\n",
        "plt.plot(fpr[0], tpr[0], color='darkorange',lw=lw, label='ROC curve (area = %0.2f)' % roc_auc[0])\n",
        "plt.plot([0, 1], [0, 1], color='navy', lw=lw, linestyle='--')\n",
        "plt.xlim([0.0, 1.0])\n",
        "plt.ylim([0.0, 1.05])\n",
        "plt.xlabel('False Positive Rate',fontsize=15)\n",
        "plt.ylabel('True Positive Rate',fontsize=15)\n",
        "plt.title('Receiver operating characteristic example',fontsize=15)\n",
        "plt.legend(loc=\"lower right\",fontsize=15)\n",
        "plt.show()"
      ],
      "execution_count": null,
      "outputs": [
        {
          "output_type": "display_data",
          "data": {
            "image/png": "[encoded data removed]",
            "text/plain": [
              "<Figure size 576x576 with 1 Axes>"
            ]
          },
          "metadata": {
            "tags": [],
            "needs_background": "light"
          }
        }
      ]
    },
    {
      "cell_type": "markdown",
      "metadata": {
        "id": "25vnR78ENeUt"
      },
      "source": [
        "## ***Step 8***: Summaries and Observations"
      ]
    },
    {
      "cell_type": "markdown",
      "metadata": {
        "id": "w9UpyVjHNlcY"
      },
      "source": [
        "I would like to mention to some of my experiments and the results that they gave me:\n",
        "- First of all I had faced a big problem of overfitting and it wasn't something that I overcome very easily. In the beginning, I experiment with various values of these hyparameters:\n",
        "  - ***Learning rate***, whose I kept the optimal, for me, value of 2e-3.\n",
        "  - ***Dropout layers*** before, between and after LSTM/GRU layers with propabilities from 0.1 to even 0.9! I end up with propabilities of 0.2 and 0.3, but in the end the better score is without any dropout at all.\n",
        "  - ***Weight_decay*** in Adam optimizer, which doesn't helped me very much\n",
        "  - ***Dataset's size*** , whole or the half of it\n",
        "  - ***Number of layers***, from 2 to 8 layers, but I noticed that as much as more layers I gave to the model, the more overfitting it happened. So I decided to stay at 2 layers. \n",
        "  - ***Number of epochs***. I started with fewer epochs (eg 5) and I end up to 10, since it wasn't improve the performance the more epochs I gave.\n",
        "  - ***Hidden size***, from 32 to 1024, but 128 seems to give the better results.\n",
        "  - ***Batch_size***, from 32 to 2048, but I kept the 2048 because it gives me good results with less time.  When I tried with lower values of batch size the gap between train and valid loss increased, since the lower the batch size is the faster and (specialized) the model was learning in train data.\n",
        "  - ***Dimensions of Glove Pretrained Word Embeddings*** size with values of 25, 50, 100, 200\n",
        "  - ***Gradient clipping*** with values from 2 to 5.\n",
        "  \n",
        "- As I experimented with these different values, I couldn't overcome overfitting and I couldn't understand the reason that even if I tried so many different values of hyparameters, nothing changed. Overfitting started from the first epoch and as the epochs increased, the train and validation loss diverged more and more. I tried to changed the percentages of the train test split, and give more data to valid dataset and less in train dataset, but there wasn't big difference in results. So even if I had good scores of 0.78  in test set, I wasn't satisfied.\n",
        "\n",
        "- So, after several hours, days and weeks of experimentation, I realized that maybe my model is complex enough for the given dataset. If we observed the previous Projects, for the same dataset and a simple Logistic Regression, we had a test score of 0.80 and without even give a serious effort! So I decided to simplify my model as much as I could, see the results and then I increased the complexity slowly. I started with hidden size of 16, one layer and a non bidirectional model and I increased the value of them until I observed that train and validation loss converged! It was a very big relief that I could finally overcome overfitting.\n",
        "\n",
        "- As you can see, the learning curves isn't the smoothest curves that you have ever seen (in the previous Projects were very smoother), but you can't say that they diverge anymore (at some point). It is a big improvement!\n",
        "\n",
        "- After I dealed with overfitting, the only thing lefted to experiment is the type of cells (LSTM or GRU) and select the best model. But before I comment about the results each had, lets see some useful informations (from lectures):\n",
        "  - Concerning the LSTM cell, we knew that maintains a cell state that is read from and written to. There are 4 gates that regulate the reading, writing, and outputting values to and from the cell state, dependent upon the input and cell state values. The first gate determines what the hidden state forgets. The next gate is responsible for determining what part of the cell state is written to. The third gate decides the contents that are written. Finally, the last gate reads from the cell state to produce an output.\n",
        "  - On the other hand, GRU cell is similar to the LSTM cell but with a few important differences. First, there is no hidden state. The cell state adopts the functionality of the hidden state from the LSTM cell design. Next, the processes of determining what the cell states forgets and what part of the cell state is written to are consolidated into a single gate. Only the portion of the cell state that has been erased is written to. Finally, the entire cell state is given as an output. This is different from the LSTM cell which chooses what to read from the cell state to produce an output. All of these changes together provides a simpler design with less parameters than the LSTM. Less parameters, however, may come at the cost of decreased accuracy.\n",
        "- So, we proved that LSTM is more complicated than GRU in general. This means that I expected to see better scores in LSTM than GRU. Despite having fewer parameters, the GRU model was able to achieve a lower loss after 5 epochs (~0.40). The LSTM model displays much greater volatility throughout its gradient descent compared to the GRU model. This may be due to the fact that there are more gates for the gradients to flow through, causing steady progress to be more difficult to maintain after some epochs. Additionally, the GRU model was able to train the data faster than the LSTM model. LSTM was able to achieve a loss of ~0.43 after 7 epochs. \n",
        "- The test score that (bi)LSTM gave me is 0.80 in contrast to (bi)GRU test score of 0.81. According to the theory, this is something we didn't expect to happen. However, I think that the GRU gives better results because is less complicated than the LSTM, and the dataset we gave to train them is much \"easier\" than we thought.\n",
        "- Although the learning curves of LSTM seemed to me much more smooth than GRU's and they converge much more, I decided to don't take it so seriously and let it affect my decision. I focused more in the fact that GRU gives me similar results as LSTM and in less time (almost half) (and resources)! So this is why I decide the GRU as the best model.\n",
        "- However, I would like to show you the learning curves that LSTM gave me (with the same parameters) in the picture below, to see what I was talking about. "
      ]
    },
    {
      "cell_type": "markdown",
      "metadata": {
        "id": "OYKh18Ss4ckR"
      },
      "source": [
        "![alt text](https://drive.google.com/uc?id=1z56PJAXbTZs4_Z1k4MF_h3qpkhqRS9g0)"
      ]
    },
    {
      "cell_type": "markdown",
      "metadata": {
        "id": "Wwazvz5-lLIx"
      },
      "source": [
        "## ***Step 9***: Compare the results with the previous Project"
      ]
    },
    {
      "cell_type": "markdown",
      "metadata": {
        "id": "jmMJ_CdelWma"
      },
      "source": [
        "If we look at the previous Project, we will see that I selected the deep Feed Forward Neural Network with TF-IDF (of 1000 dimensions) and 4 hidden layers, as the best model. This was gave me a score of 0.79 with minimun loss of ~0.45. My biGRU model gave me score of 0.81 with loss of ~0.40 and my biLSTM model gave me score of 0.80 with loss of ~0.43. Maybe the score and loss don't differ so much, but I think it is an improvement, which is something that we expected. If we look more carefully, we will see that the Feed Forward Neural Network give us these results in 50 epochs, in contrast to biGRU that give us this results in just 10 epochs! So we understand that this is a big improvement! Let's see in what maybe this improvement is due to:\n",
        "\n",
        "- ***Feed-forward Neural Network*** allow signals to travel one way only: from input to output (inputs are processed only in the forward direction). There are no feedback (loops) and the output of any layer does not affect that same layer. Feed-forward models tend to be straightforward networks that associate inputs with outputs. They are extensively used in pattern recognition. Feed Forward Neural Networks can be used to solve problems related to:\n",
        "\n",
        "    - *Tabular data*\n",
        "    - *Image data*\n",
        "    - *Text data*\n",
        "\n",
        "  One common drawback of FFNN is that it cannot capture sequential information in the input data which is required for dealing with sequence data.\n",
        "\n",
        "- On the other hand, ***RNN Networks*** can have signals traveling in both directions by introducing loops in the network. RNN networks are powerful and can get extremely complicated. Computations derived from earlier input are fed back into the network, which gives them a kind of memory. RNN networks are dynamic; their 'state' is changing continuously until they reach an equilibrium point. They remain at the equilibrium point until the input changes and a new equilibrium needs to be found. As we already understand, RNN has a recurrent connection on the hidden state. This looping constraint ensures that sequential information is captured in the input data. We can use recurrent neural networks to solve the problems related to:\n",
        "\n",
        "    - *Time Series data*\n",
        "    - *Text data*\n",
        "    - *Audio data*\n",
        "\n",
        "  One of the most important advantage of RNNs is that they captures the sequential information present in the input data i.e. dependency between the words in the text while making predictions. So, if we had a sentence the output of each word at each time step depends not only on the current word but also on the previous words. For this reason we understand why both biLSTM and biGRU are better than the FFNN of the previous task.\n",
        "\n",
        " "
      ]
    },
    {
      "cell_type": "code",
      "metadata": {
        "id": "SX2F4vuhAVKC"
      },
      "source": [
        ""
      ],
      "execution_count": null,
      "outputs": []
    }
  ]
}